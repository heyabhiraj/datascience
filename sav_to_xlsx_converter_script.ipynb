{
  "cells": [
    {
      "cell_type": "code",
      "source": [
        "# converter.py\n",
        "# A Python script to convert an SPSS .sav file to an Excel .xlsx file.\n",
        "\n",
        "import pandas as pd\n",
        "import os\n",
        "\n",
        "def convert_sav_to_xlsx():\n",
        "    \"\"\"\n",
        "    Prompts the user for input and output file paths and performs the conversion.\n",
        "    \"\"\"\n",
        "    print(\"--- SAV to XLSX File Converter ---\")\n",
        "\n",
        "    # --- Get Input File Path ---\n",
        "    while True:\n",
        "        sav_path = input(\"Enter the path to your .sav file: \").strip()\n",
        "        # Check if the file exists and has the .sav extension\n",
        "        if os.path.exists(sav_path) and sav_path.lower().endswith('.sav'):\n",
        "            break\n",
        "        elif not sav_path.lower().endswith('.sav'):\n",
        "            print(\"Error: The file must have a .sav extension.\")\n",
        "        else:\n",
        "            print(\"Error: File not found. Please check the path and try again.\")\n",
        "\n",
        "    # --- Get Output File Path ---\n",
        "    # Suggest a default output name based on the input file name\n",
        "    default_xlsx_name = os.path.splitext(os.path.basename(sav_path))[0] + '.xlsx'\n",
        "    xlsx_path_prompt = f\"Enter the desired name for the output .xlsx file (or press Enter for '{default_xlsx_name}'): \"\n",
        "\n",
        "    xlsx_path = input(xlsx_path_prompt).strip()\n",
        "    if not xlsx_path:\n",
        "        xlsx_path = default_xlsx_name\n",
        "    # Ensure the output file has the correct extension\n",
        "    if not xlsx_path.lower().endswith('.xlsx'):\n",
        "        xlsx_path += '.xlsx'\n",
        "\n",
        "    # --- Perform Conversion ---\n",
        "    try:\n",
        "        print(f\"\\nReading '{sav_path}'...\")\n",
        "        # Use pandas and the pyreadstat engine to read the .sav file.\n",
        "        # 'convert_categoricals=True' converts SPSS categorical variables into human-readable labels.\n",
        "        df, meta = pd.read_spss(sav_path, convert_categoricals=True)\n",
        "\n",
        "        print(f\"Writing to '{xlsx_path}'...\")\n",
        "        # Write the DataFrame to an Excel file.\n",
        "        # 'index=False' prevents pandas from writing the DataFrame index as a column in the Excel sheet.\n",
        "        df.to_excel(xlsx_path, index=False, engine='openpyxl')\n",
        "\n",
        "        print(\"\\n-----------------------------------------\")\n",
        "        print(\"✅ Conversion successful!\")\n",
        "        print(f\"File saved as: {xlsx_path}\")\n",
        "        print(\"-----------------------------------------\")\n",
        "\n",
        "    except Exception as e:\n",
        "        print(\"\\n-----------------------------------------\")\n",
        "        print(f\"❌ An error occurred during conversion: {e}\")\n",
        "        print(\"-----------------------------------------\")\n",
        "\n",
        "if __name__ == \"__main__\":\n",
        "    convert_sav_to_xlsx()"
      ],
      "outputs": [],
      "execution_count": null,
      "metadata": {
        "id": "ZN78VzNRdOUm"
      }
    }
  ],
  "metadata": {
    "colab": {
      "provenance": []
    },
    "kernelspec": {
      "display_name": "Python 3",
      "name": "python3"
    }
  },
  "nbformat": 4,
  "nbformat_minor": 0
}